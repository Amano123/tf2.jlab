{
 "cells": [
  {
   "cell_type": "code",
   "execution_count": 1,
   "metadata": {},
   "outputs": [],
   "source": [
    "from elasticsearch import Elasticsearch"
   ]
  },
  {
   "cell_type": "code",
   "execution_count": 2,
   "metadata": {},
   "outputs": [],
   "source": [
    "def setting():\n",
    "    settings ={\n",
    "        \"settings\": {\n",
    "            \"analysis\": {\n",
    "                \"filter\": {\n",
    "                    \"synonyms_filter\": { # 同義語フィルターの定義\n",
    "                        \"type\": \"synonym\",\n",
    "                        \"synonyms\": [ #同義語リストの定義 (今は空の状態)\n",
    "                            ]\n",
    "                    }\n",
    "                },\n",
    "                \"tokenizer\": {\n",
    "                    \"sudachi_tokenizer\": {\n",
    "                        \"type\": \"sudachi_tokenizer\",\n",
    "                        \"discard_punctuation\": True,\n",
    "                        \"sudachi_split\":\"search\",\n",
    "                        \"resources_path\": \"/usr/share/elasticsearch/config/sudachi\",\n",
    "                        \"settings_path\": \"/usr/share/elasticsearch/config/sudachi/sudachi_fulldict.json\"\n",
    "                    }\n",
    "                },\n",
    "                \"analyzer\": {\n",
    "                    \"sudachi_analyzer\": {\n",
    "                        \"char_filter\": [\n",
    "                            \"icu_normalizer\", # 文字単位の正規化\n",
    "                            \"kuromoji_iteration_mark\" # 繰り返し文字の正規化\n",
    "                        ],\n",
    "                        \"filter\": [\n",
    "                            \"synonyms_filter\", # 同義語展開\n",
    "                            # \"kuromoji_baseform\", # 活用語の原型化\n",
    "                            # \"kuromoji_part_of_speech\", # 不要品詞の除去\n",
    "                            # \"ja_stop\", #不要単語の除去\n",
    "                            \"kuromoji_number\", # 数字の正規化\n",
    "                            \"kuromoji_stemmer\" #長音の正規化\n",
    "                        ],\n",
    "                        \"tokenizer\": \"sudachi_tokenizer\",\n",
    "                        \"type\": \"custom\"\n",
    "                    }\n",
    "                }\n",
    "            }\n",
    "        },\n",
    "      \"mappings\":{\n",
    "            \"properties\": {\n",
    "                \"text\": {\n",
    "                    \"analyzer\": \"sudachi_analyzer\",\n",
    "                    \"type\": \"text\"\n",
    "                    }\n",
    "    }}}\n",
    "    \n",
    "    return settings"
   ]
  },
  {
   "cell_type": "code",
   "execution_count": 3,
   "metadata": {},
   "outputs": [
    {
     "name": "stdout",
     "output_type": "stream",
     "text": [
      "testを更新します。\n"
     ]
    },
    {
     "data": {
      "text/plain": [
       "{'acknowledged': True, 'shards_acknowledged': True, 'index': 'test'}"
      ]
     },
     "execution_count": 3,
     "metadata": {},
     "output_type": "execute_result"
    }
   ],
   "source": [
    "jp_index = \"test\"\n",
    "es = Elasticsearch(\"elasticsearch-sudachi\")\n",
    "if es.indices.exists(index = jp_index):\n",
    "    print(f\"{jp_index}を更新します。\")\n",
    "    es.indices.delete(index = jp_index)\n",
    "\n",
    "es.indices.create(index=jp_index, body=setting())"
   ]
  },
  {
   "cell_type": "code",
   "execution_count": 13,
   "metadata": {},
   "outputs": [
    {
     "data": {
      "text/plain": [
       "{'tokens': [{'token': '10',\n",
       "   'start_offset': 0,\n",
       "   'end_offset': 3,\n",
       "   'type': 'word',\n",
       "   'position': 0},\n",
       "  {'token': '早早',\n",
       "   'start_offset': 3,\n",
       "   'end_offset': 5,\n",
       "   'type': 'word',\n",
       "   'position': 1},\n",
       "  {'token': '東京',\n",
       "   'start_offset': 5,\n",
       "   'end_offset': 7,\n",
       "   'type': 'word',\n",
       "   'position': 2},\n",
       "  {'token': 'から',\n",
       "   'start_offset': 7,\n",
       "   'end_offset': 9,\n",
       "   'type': 'word',\n",
       "   'position': 3},\n",
       "  {'token': '来',\n",
       "   'start_offset': 9,\n",
       "   'end_offset': 10,\n",
       "   'type': 'word',\n",
       "   'position': 4},\n",
       "  {'token': 'た',\n",
       "   'start_offset': 10,\n",
       "   'end_offset': 11,\n",
       "   'type': 'word',\n",
       "   'position': 5}]}"
      ]
     },
     "execution_count": 13,
     "metadata": {},
     "output_type": "execute_result"
    }
   ],
   "source": [
    "text = \"０１０早々東京から来た\"\n",
    "body = {\"text\":text}\n",
    "body = {\"text\":text, \"analyzer\":\"sudachi_analyzer\"}\n",
    "es.indices.analyze(index=jp_index, body=body)\n"
   ]
  },
  {
   "cell_type": "code",
   "execution_count": 11,
   "metadata": {},
   "outputs": [],
   "source": [
    "es.index(index=jp_index, body=body)\n",
    "result = es.search(\n",
    "            index=jp_index,\n",
    "            body={\"query\": {\"match_all\": {}}}\n",
    ")"
   ]
  },
  {
   "cell_type": "code",
   "execution_count": 6,
   "metadata": {},
   "outputs": [
    {
     "data": {
      "text/plain": [
       "{'took': 1,\n",
       " 'timed_out': False,\n",
       " '_shards': {'total': 1, 'successful': 1, 'skipped': 0, 'failed': 0},\n",
       " 'hits': {'total': {'value': 1, 'relation': 'eq'},\n",
       "  'max_score': 1.0,\n",
       "  'hits': [{'_index': 'test',\n",
       "    '_type': '_doc',\n",
       "    '_id': 'ge8m8HIBILEZmxDbhZqO',\n",
       "    '_score': 1.0,\n",
       "    '_source': {'text': '1次リーグ●日本0（0－1、0－2）3中国○'}}]}}"
      ]
     },
     "execution_count": 6,
     "metadata": {},
     "output_type": "execute_result"
    }
   ],
   "source": [
    "result"
   ]
  },
  {
   "cell_type": "code",
   "execution_count": null,
   "metadata": {},
   "outputs": [],
   "source": []
  }
 ],
 "metadata": {
  "kernelspec": {
   "display_name": "Python 3",
   "language": "python",
   "name": "python3"
  },
  "language_info": {
   "codemirror_mode": {
    "name": "ipython",
    "version": 3
   },
   "file_extension": ".py",
   "mimetype": "text/x-python",
   "name": "python",
   "nbconvert_exporter": "python",
   "pygments_lexer": "ipython3",
   "version": "3.6.9"
  }
 },
 "nbformat": 4,
 "nbformat_minor": 4
}
