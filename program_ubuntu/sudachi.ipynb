{
 "cells": [
  {
   "cell_type": "code",
   "execution_count": 6,
   "metadata": {},
   "outputs": [],
   "source": [
    "from elasticsearch import Elasticsearch"
   ]
  },
  {
   "cell_type": "code",
   "execution_count": 7,
   "metadata": {},
   "outputs": [],
   "source": [
    "def setting():\n",
    "    settings ={\n",
    "        \"settings\": {\n",
    "            \"analysis\": {\n",
    "                \"filter\": {\n",
    "                    \"synonyms_filter\": { # 同義語フィルターの定義\n",
    "                        \"type\": \"synonym\",\n",
    "                        \"synonyms\": [ #同義語リストの定義 (今は空の状態)\n",
    "                            ]\n",
    "                    }\n",
    "                },\n",
    "                \"tokenizer\": {\n",
    "                    \"sudachi_tokenizer\": {\n",
    "                        \"type\": \"sudachi_tokenizer\",\n",
    "                        \"discard_punctuation\": True,\n",
    "                        \"sudachi_split\":\"search\",\n",
    "                        \"resources_path\": \"/usr/share/elasticsearch/config/sudachi\",\n",
    "                        \"settings_path\": \"/usr/share/elasticsearch/config/sudachi/sudachi_fulldict.json\"\n",
    "                    }\n",
    "                },\n",
    "                \"analyzer\": {\n",
    "                    \"sudachi_analyzer\": {\n",
    "                        \"char_filter\": [\n",
    "                            \"icu_normalizer\", # 文字単位の正規化\n",
    "                            \"kuromoji_iteration_mark\" # 繰り返し文字の正規化\n",
    "                        ],\n",
    "                        \"filter\": [\n",
    "                            \"synonyms_filter\", # 同義語展開\n",
    "                            # \"kuromoji_baseform\", # 活用語の原型化\n",
    "                            # \"kuromoji_part_of_speech\", # 不要品詞の除去\n",
    "                            # \"ja_stop\", #不要単語の除去\n",
    "                            \"kuromoji_number\", # 数字の正規化\n",
    "                            \"kuromoji_stemmer\" #長音の正規化\n",
    "                        ],\n",
    "                        \"tokenizer\": \"sudachi_tokenizer\",\n",
    "                        \"type\": \"custom\"\n",
    "                    }\n",
    "                }\n",
    "            }\n",
    "        },\n",
    "      \"mappings\":{\n",
    "            \"properties\": {\n",
    "                \"page_id\": {\n",
    "                    \"type\": \"integer\"\n",
    "                },\n",
    "                \"title\": {\n",
    "                    \"type\":\"keyword\"\n",
    "                },\n",
    "                \"text\": {\n",
    "                    \"analyzer\": \"sudachi_analyzer\",\n",
    "                    \"type\": \"text\"\n",
    "                },\n",
    "                \"sudachi\" :{\n",
    "                    \"type\": \"text\"\n",
    "                }\n",
    "                }\n",
    "      }\n",
    "    }\n",
    "    \n",
    "    return settings"
   ]
  },
  {
   "cell_type": "code",
   "execution_count": 8,
   "metadata": {},
   "outputs": [
    {
     "name": "stdout",
     "output_type": "stream",
     "text": [
      "testを更新します。\n",
      "create index【test】\n",
      "CPU times: user 4.91 ms, sys: 95 µs, total: 5 ms\n",
      "Wall time: 170 ms\n"
     ]
    }
   ],
   "source": [
    "%%time\n",
    "jp_index = \"test\"\n",
    "es = Elasticsearch(\"elasticsearch-sudachi\")\n",
    "if es.indices.exists(index = jp_index):\n",
    "    print(f\"{jp_index}を更新します。\")\n",
    "    es.indices.delete(index = jp_index)\n",
    "\n",
    "Result = es.indices.create(index=jp_index, body=setting())\n",
    "if Result[\"acknowledged\"] == True:\n",
    "    print(f'create index【{Result[\"index\"]}】')"
   ]
  },
  {
   "cell_type": "code",
   "execution_count": 9,
   "metadata": {},
   "outputs": [
    {
     "name": "stdout",
     "output_type": "stream",
     "text": [
      "['アンダーリップ']CPU times: user 7h 2min 2s, sys: 36min 20s, total: 7h 38min 22s24 (Video)\"]'] Shibuya C.C.Lemon Hall']tack of the Evil, Mutant, Alien, Flesh Eating, Hellbound, Zombified Living Dead Part 2: In Shocking 2-D']\n",
      "Wall time: 23h 11min 17s\n"
     ]
    }
   ],
   "source": [
    "%%time\n",
    "import io\n",
    "import json\n",
    "import re\n",
    "import glob\n",
    "\n",
    "paths = glob.glob(\"./dataset/*/*\")\n",
    "for path in paths:\n",
    "#     print(path)\n",
    "    data = io.open(path,mode = \"r\").readlines()\n",
    "    for line in data:\n",
    "        json_data = json.loads(line)\n",
    "        text = json_data[\"text\"]\n",
    "        page_id = json_data[\"id\"]\n",
    "        # タイトル抽出\n",
    "        title_data = re.findall(\"^(.*)\\n*\",text)\n",
    "        print(f\"\\r{title_data}\",end=\"\")\n",
    "        # テキスト抽出\n",
    "        ## テキスト中のタイトル削除\n",
    "        text_data = re.sub(\"^.*\\n*\", \"\", text)\n",
    "        ## テキスト終わりの改行削除\n",
    "        text_data = re.sub(\"\\n+$\", \"\", text_data)\n",
    "        ## テキスト中の改行を[_#_]に変換\n",
    "        text_data = re.sub(\"\\n+\", \"_#_\", text_data)\n",
    "        text_data = text_data.split('_#_')\n",
    "        for num, original in enumerate(text_data, 1):\n",
    "            body = {\"text\":original, \"analyzer\":\"sudachi_analyzer\"}\n",
    "            data = es.indices.analyze(index=jp_index, body=body)[\"tokens\"]\n",
    "            sudachi_list = \"\"\n",
    "            for i in data:\n",
    "                sudachi_list += i[\"token\"] + \" \"\n",
    "            body = {\"page_id\": page_id, \"title\": title_data, \"text\": original, \"sudachi\":sudachi_list}\n",
    "    #     body = {\"title\": title_data, \"text\": i}\n",
    "\n",
    "            es.index(index=jp_index, id=f\"{page_id}.{num}\", body=body)"
   ]
  },
  {
   "cell_type": "code",
   "execution_count": 10,
   "metadata": {},
   "outputs": [],
   "source": [
    "result = es.search(\n",
    "            index=jp_index,\n",
    "            body = {\n",
    "                \"query\": {\n",
    "                    \"term\": {\n",
    "                        \"title\": \"こどもの文化\"\n",
    "                    }\n",
    "                }\n",
    "            }\n",
    ")"
   ]
  },
  {
   "cell_type": "code",
   "execution_count": 11,
   "metadata": {},
   "outputs": [
    {
     "data": {
      "text/plain": [
       "{'took': 9,\n",
       " 'timed_out': False,\n",
       " '_shards': {'total': 1, 'successful': 1, 'skipped': 0, 'failed': 0},\n",
       " 'hits': {'total': {'value': 4, 'relation': 'eq'},\n",
       "  'max_score': 14.482862,\n",
       "  'hits': [{'_index': 'test',\n",
       "    '_type': '_doc',\n",
       "    '_id': '59.1',\n",
       "    '_score': 14.482862,\n",
       "    '_source': {'page_id': '59',\n",
       "     'title': ['こどもの文化'],\n",
       "     'text': 'こどもの文化（こどものぶんか）は、子供の遊びや行事を通じて形成される子供独自の文化である。',\n",
       "     'sudachi': 'こどもの文化 こども の ぶん か は 子供の遊び や 行事 を 通じ て 形成 さ れる 子供 独自 の 文化 で ある '}},\n",
       "   {'_index': 'test',\n",
       "    '_type': '_doc',\n",
       "    '_id': '59.2',\n",
       "    '_score': 14.482862,\n",
       "    '_source': {'page_id': '59',\n",
       "     'title': ['こどもの文化'],\n",
       "     'text': '未就学あるいは義務教育段階である子供が、子供ら独自で、あるいは保護者や教師をはじめとする大人からの示唆や指導を受けながら形成し、その多くは以下に挙げるような、子供の形成過程で使われるさまざまな道具（おもちゃ）により、創造性、想像力など脳の発達と共に、文化的意味合いを持つものだと指摘できる。',\n",
       "     'sudachi': '未就学 あるいは 義務教育 段階 で ある 子供 が 子供 ら 独自 で あるいは 保護者 や 教師 を はじめ と する 大人 から の 示唆 や 指導 を 受け ながら 形成 し その 多く は 以下 に 挙げる よう な 子供 の 形成 過程 で 使わ れる さまざま な 道具 おもちゃ に より 創造性 想像力 など 脳 の 発達 と 共 に 文化的 意味合い を 持つ もの だ と 指摘 できる '}},\n",
       "   {'_index': 'test',\n",
       "    '_type': '_doc',\n",
       "    '_id': '59.3',\n",
       "    '_score': 14.482862,\n",
       "    '_source': {'page_id': '59',\n",
       "     'title': ['こどもの文化'],\n",
       "     'text': 'フランスの思想家、ロジェ・カイヨワはヨハン・ホイジンガの著書「ホモ・ルーデンス」に影響を受け、「遊びと人間」を執筆した。その中でカイヨワは遊びを次の4つ要素に分類している。',\n",
       "     'sudachi': 'フランス の 思想家 ロジェ・カイヨワ は ヨハン・ホイジンガ の 著書 ホモ ルーデンス に 影響 を 受け 遊び と 人間 を 執筆 し た その 中 で カイヨワ は 遊び を 次 の 4 つ 要素 に 分類 し て いる '}},\n",
       "   {'_index': 'test',\n",
       "    '_type': '_doc',\n",
       "    '_id': '59.4',\n",
       "    '_score': 14.482862,\n",
       "    '_source': {'page_id': '59',\n",
       "     'title': ['こどもの文化'],\n",
       "     'text': 'テレビゲームによって様々な遊びが仮想空間で行われるようになった。RPGも見方を変えれば上りを目指す双六の様なものであり、種々のシューティングゲームも射的といえる。',\n",
       "     'sudachi': 'テレビゲーム に よっ て 様様 な 遊び が 仮想空間 で 行わ れる よう に なっ た rpg も 見方 を 変えれ ば 上り を 目指す 双六 の 様 な もの で あり 種種 の シューティングゲーム も 射的 と いえる '}}]}}"
      ]
     },
     "execution_count": 11,
     "metadata": {},
     "output_type": "execute_result"
    }
   ],
   "source": [
    "result"
   ]
  },
  {
   "cell_type": "code",
   "execution_count": 35,
   "metadata": {},
   "outputs": [
    {
     "name": "stdout",
     "output_type": "stream",
     "text": [
      "---------json----------\n",
      "{'id': '5', 'url': 'https://ja.wikipedia.org/wiki?curid=5', 'title': 'アンパサンド', 'text': 'アンパサンド\\n\\nアンパサンド (&、英語名：) とは並立助詞「…と…」を意味する記号である。ラテン語の の合字で、Trebuchet MSフォントでは、と表示され \"et\" の合字であることが容易にわかる。ampersa、すなわち \"and per se and\"、その意味は\"and [the symbol which] by itself [is] and\"である。\\n\\nその使用は1世紀に遡ることができ、5世紀中葉から現代に至るまでの変遷がわかる。\\nZ に続くラテン文字アルファベットの27字目とされた時期もある。\\n\\nアンパサンドと同じ役割を果たす文字に「のet」と呼ばれる、数字の「7」に似た記号があった(, U+204A)。この記号は現在もゲール文字で使われている。\\n\\n記号名の「アンパサンド」は、ラテン語まじりの英語「& はそれ自身 \"and\" を表す」(& per se and) のくずれた形である。英語以外の言語での名称は多様である。\\n\\n日常的な手書きの場合、欧米でアンパサンドは「ε」に縦線を引く単純化されたものが使われることがある。\\n\\nまた同様に、「t」または「+（プラス）」に輪を重ねたような、無声歯茎側面摩擦音を示す発音記号「」のようなものが使われることもある。\\n\\nプログラミング言語では、C など多数の言語で AND 演算子として用いられる。以下は C の例。\\nPHPでは、変数宣言記号（$）の直前に記述することで、参照渡しを行うことができる。\\n\\nBASIC 系列の言語では文字列の連結演算子として使用される。codice_4 は codice_5 を返す。また、主にマイクロソフト系では整数の十六進表記に codice_6 を用い、codice_7 （十進で15）のように表現する。\\n\\nSGML、XML、HTMLでは、アンパサンドを使ってSGML実体を参照する。\\n'}\n",
      "---------title----------\n",
      "['アンパサンド']\n",
      "---------texts----------\n"
     ]
    }
   ],
   "source": [
    "print(\"---------json----------\")\n",
    "print(json_data)\n",
    "print(\"---------title----------\")\n",
    "print(title_data)\n",
    "print(\"---------texts----------\")\n",
    "# print(text_data)\n",
    "for num, i in enumerate(text_data, 1):\n",
    "    body = {\"page_id\": page_id, \"title\": title_data, \"text\": i}\n",
    "#     body = {\"title\": title_data, \"text\": i}\n",
    "\n",
    "    es.index(index=jp_index, id=f\"{page_id}.{num}\", body=body)"
   ]
  },
  {
   "cell_type": "code",
   "execution_count": 36,
   "metadata": {},
   "outputs": [],
   "source": [
    "result = es.search(\n",
    "            index=jp_index,\n",
    "            body={\"query\": {\"match_all\": {}}}\n",
    ")"
   ]
  },
  {
   "cell_type": "code",
   "execution_count": 37,
   "metadata": {},
   "outputs": [
    {
     "data": {
      "text/plain": [
       "{'took': 2,\n",
       " 'timed_out': False,\n",
       " '_shards': {'total': 1, 'successful': 1, 'skipped': 0, 'failed': 0},\n",
       " 'hits': {'total': {'value': 11, 'relation': 'eq'},\n",
       "  'max_score': 1.0,\n",
       "  'hits': [{'_index': 'test',\n",
       "    '_type': '_doc',\n",
       "    '_id': '5.1',\n",
       "    '_score': 1.0,\n",
       "    '_source': {'page_id': '5',\n",
       "     'title': ['アンパサンド'],\n",
       "     'text': 'アンパサンド (&、英語名：) とは並立助詞「…と…」を意味する記号である。ラテン語の の合字で、Trebuchet MSフォントでは、と表示され \"et\" の合字であることが容易にわかる。ampersa、すなわち \"and per se and\"、その意味は\"and [the symbol which] by itself [is] and\"である。'}},\n",
       "   {'_index': 'test',\n",
       "    '_type': '_doc',\n",
       "    '_id': '5.2',\n",
       "    '_score': 1.0,\n",
       "    '_source': {'page_id': '5',\n",
       "     'title': ['アンパサンド'],\n",
       "     'text': 'その使用は1世紀に遡ることができ、5世紀中葉から現代に至るまでの変遷がわかる。'}},\n",
       "   {'_index': 'test',\n",
       "    '_type': '_doc',\n",
       "    '_id': '5.3',\n",
       "    '_score': 1.0,\n",
       "    '_source': {'page_id': '5',\n",
       "     'title': ['アンパサンド'],\n",
       "     'text': 'Z に続くラテン文字アルファベットの27字目とされた時期もある。'}},\n",
       "   {'_index': 'test',\n",
       "    '_type': '_doc',\n",
       "    '_id': '5.4',\n",
       "    '_score': 1.0,\n",
       "    '_source': {'page_id': '5',\n",
       "     'title': ['アンパサンド'],\n",
       "     'text': 'アンパサンドと同じ役割を果たす文字に「のet」と呼ばれる、数字の「7」に似た記号があった(, U+204A)。この記号は現在もゲール文字で使われている。'}},\n",
       "   {'_index': 'test',\n",
       "    '_type': '_doc',\n",
       "    '_id': '5.5',\n",
       "    '_score': 1.0,\n",
       "    '_source': {'page_id': '5',\n",
       "     'title': ['アンパサンド'],\n",
       "     'text': '記号名の「アンパサンド」は、ラテン語まじりの英語「& はそれ自身 \"and\" を表す」(& per se and) のくずれた形である。英語以外の言語での名称は多様である。'}},\n",
       "   {'_index': 'test',\n",
       "    '_type': '_doc',\n",
       "    '_id': '5.6',\n",
       "    '_score': 1.0,\n",
       "    '_source': {'page_id': '5',\n",
       "     'title': ['アンパサンド'],\n",
       "     'text': '日常的な手書きの場合、欧米でアンパサンドは「ε」に縦線を引く単純化されたものが使われることがある。'}},\n",
       "   {'_index': 'test',\n",
       "    '_type': '_doc',\n",
       "    '_id': '5.7',\n",
       "    '_score': 1.0,\n",
       "    '_source': {'page_id': '5',\n",
       "     'title': ['アンパサンド'],\n",
       "     'text': 'また同様に、「t」または「+（プラス）」に輪を重ねたような、無声歯茎側面摩擦音を示す発音記号「」のようなものが使われることもある。'}},\n",
       "   {'_index': 'test',\n",
       "    '_type': '_doc',\n",
       "    '_id': '5.8',\n",
       "    '_score': 1.0,\n",
       "    '_source': {'page_id': '5',\n",
       "     'title': ['アンパサンド'],\n",
       "     'text': 'プログラミング言語では、C など多数の言語で AND 演算子として用いられる。以下は C の例。'}},\n",
       "   {'_index': 'test',\n",
       "    '_type': '_doc',\n",
       "    '_id': '5.9',\n",
       "    '_score': 1.0,\n",
       "    '_source': {'page_id': '5',\n",
       "     'title': ['アンパサンド'],\n",
       "     'text': 'PHPでは、変数宣言記号（$）の直前に記述することで、参照渡しを行うことができる。'}},\n",
       "   {'_index': 'test',\n",
       "    '_type': '_doc',\n",
       "    '_id': '5.10',\n",
       "    '_score': 1.0,\n",
       "    '_source': {'page_id': '5',\n",
       "     'title': ['アンパサンド'],\n",
       "     'text': 'BASIC 系列の言語では文字列の連結演算子として使用される。codice_4 は codice_5 を返す。また、主にマイクロソフト系では整数の十六進表記に codice_6 を用い、codice_7 （十進で15）のように表現する。'}}]}}"
      ]
     },
     "execution_count": 37,
     "metadata": {},
     "output_type": "execute_result"
    }
   ],
   "source": [
    "result"
   ]
  },
  {
   "cell_type": "code",
   "execution_count": null,
   "metadata": {},
   "outputs": [],
   "source": []
  }
 ],
 "metadata": {
  "kernelspec": {
   "display_name": "Python 3",
   "language": "python",
   "name": "python3"
  },
  "language_info": {
   "codemirror_mode": {
    "name": "ipython",
    "version": 3
   },
   "file_extension": ".py",
   "mimetype": "text/x-python",
   "name": "python",
   "nbconvert_exporter": "python",
   "pygments_lexer": "ipython3",
   "version": "3.6.9"
  }
 },
 "nbformat": 4,
 "nbformat_minor": 4
}
