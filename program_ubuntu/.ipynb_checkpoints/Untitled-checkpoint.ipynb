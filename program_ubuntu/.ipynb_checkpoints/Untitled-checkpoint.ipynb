{
 "cells": [
  {
   "cell_type": "code",
   "execution_count": 6,
   "metadata": {},
   "outputs": [],
   "source": [
    "!ls ../dataset/"
   ]
  },
  {
   "cell_type": "code",
   "execution_count": 1,
   "metadata": {},
   "outputs": [],
   "source": [
    "from elasticsearch import Elasticsearch"
   ]
  },
  {
   "cell_type": "code",
   "execution_count": 11,
   "metadata": {},
   "outputs": [],
   "source": [
    "es = Elasticsearch(\"elasticsearch-sudachi\")"
   ]
  },
  {
   "cell_type": "markdown",
   "metadata": {
    "jupyter": {
     "source_hidden": true
    }
   },
   "source": [
    "\"analyzer\": {\n",
    "                    \"sudachi_analyzer\": { # 検索用アナライザの定義\n",
    "                        \"type\": \"custom\",\n",
    "                        \"char_filter\": [],\n",
    "                        \"tokenizer\": \"sudachi_tokenizer\",\n",
    "                        \"filter\": [\n",
    "                            \"stopword\"\n",
    "                            \"sudachi_part_of_speech\", # 指定した品詞のtokenを除外する\n",
    "                            \"sudachi_ja_stop\", # 指定したストップワードと一致するtokenを除外する\n",
    "                            \"sudachi_baseform\" # 各tokenをSudachiBaseFormAttributeに変換する\n",
    "                        ]\n",
    "                    }\n",
    "                    \n",
    "                    \n",
    "       {\n",
    "        \"settings\": {\n",
    "            \"index\": {\n",
    "                \"analysis\": {\n",
    "                    \"filter\": {\n",
    "                        \"synonyms_filter\": { # 同義語フィルターの定義\n",
    "                            \"type\": \"synonym\",\n",
    "                            \"synonyms\": [] #同義語リストの定義 (今は空の状態)\n",
    "                        },\n",
    "                        \"stopword\": {\n",
    "                            \"type\": \"stop\",\n",
    "                            \"stopword\": [] #stop wordの定義\n",
    "                        }\n",
    "                    },\n",
    "                    \"tokenizer\": {\n",
    "                        \"sudachi_tokenizer\": { # カスタム形態素解析の定義\n",
    "                            \"type\": \"sudachi_tokenizer\", \n",
    "                            \"mode\": \"search\",\n",
    "                            \"discard_punctuation\": True, #句読点を除くかどうか\n",
    "                            \"resources_path\": \"/usr/share/elasticsearch/plugins/analysis-sudachi/\",\n",
    "                            \"settings_path\": \"/usr/share/elasticsearch/plugins/analysis-sudachi/sudachi.json\"\n",
    "                        }\n",
    "                    }, \n",
    "                    \"analyzer\": {\n",
    "                        \"sudachi_analyzer\": {\n",
    "                            \"filter\": [\n",
    "                            ],\n",
    "                            \"tokenizer\": \"sudachi_tokenizer\",\n",
    "                            \"type\": \"custom\"\n",
    "                        }\n",
    "                    }\n",
    "\n",
    "                }\n",
    "            }\n",
    "        }\n",
    "    }"
   ]
  },
  {
   "cell_type": "code",
   "execution_count": 57,
   "metadata": {},
   "outputs": [],
   "source": [
    "def setting():\n",
    "    settings ={\n",
    "        \"settings\": {\n",
    "            \"analysis\": {\n",
    "                \"filter\": {\n",
    "                    \"synonyms_filter\": { # 同義語フィルターの定義\n",
    "                        \"type\": \"synonym\",\n",
    "                        \"synonyms\": [ #同義語リストの定義 (今は空の状態)\n",
    "                            ]\n",
    "                    }\n",
    "                },\n",
    "                \"tokenizer\": {\n",
    "                    \"sudachi_tokenizer\": {\n",
    "                        \"type\": \"sudachi_tokenizer\",\n",
    "                        \"discard_punctuation\": True,\n",
    "                        \"sudachi_split\":\"search\",\n",
    "                        \"resources_path\": \"/usr/share/elasticsearch/config/sudachi\",\n",
    "                        \"settings_path\": \"/usr/share/elasticsearch/config/sudachi/sudachi_fulldict.json\"\n",
    "                    },\n",
    "                    \"kuromoji_w_dic\": { # カスタム形態素解析の定義\n",
    "                        \"type\": \"kuromoji_tokenizer\", # kromoji_tokenizerをベースにする\n",
    "                        # ユーザー辞書としてmy_dic.dicを追加\n",
    "                        \"user_dictionary\": \"my_jisho.dic\"\n",
    "                    }\n",
    "                },\n",
    "                \"analyzer\": {\n",
    "                    \"sudachi_analyzer\": {\n",
    "                        \"char_filter\": [\n",
    "                            \"icu_normalizer\", # 文字単位の正規化\n",
    "                            \"kuromoji_iteration_mark\" # 繰り返し文字の正規化\n",
    "                        ],\n",
    "                        \"filter\": [\n",
    "                            \"synonyms_filter\", # 同義語展開\n",
    "                            # \"kuromoji_baseform\", # 活用語の原型化\n",
    "                            # \"kuromoji_part_of_speech\", # 不要品詞の除去\n",
    "                            # \"ja_stop\", #不要単語の除去\n",
    "                            \"kuromoji_number\", # 数字の正規化\n",
    "                            \"kuromoji_stemmer\" #長音の正規化\n",
    "                        ],\n",
    "                        \"tokenizer\": \"sudachi_tokenizer\",\n",
    "                        \"type\": \"custom\"\n",
    "                    }\n",
    "                }\n",
    "            }\n",
    "        },\n",
    "      \"mappings\":{\n",
    "            \"properties\": {\n",
    "                \"text\": {\n",
    "                    \"analyzer\": \"sudachi_analyzer\",\n",
    "                    \"type\": \"text\"\n",
    "                    }\n",
    "    }}}\n",
    "    \n",
    "    return settings"
   ]
  },
  {
   "cell_type": "code",
   "execution_count": 58,
   "metadata": {},
   "outputs": [
    {
     "name": "stdout",
     "output_type": "stream",
     "text": [
      "testを更新します。\n"
     ]
    },
    {
     "data": {
      "text/plain": [
       "{'acknowledged': True, 'shards_acknowledged': True, 'index': 'test'}"
      ]
     },
     "execution_count": 58,
     "metadata": {},
     "output_type": "execute_result"
    }
   ],
   "source": [
    "jp_index = \"test\"\n",
    "es = Elasticsearch(\"elasticsearch-sudachi\")\n",
    "if es.indices.exists(index = jp_index):\n",
    "    print(f\"{jp_index}を更新します。\")\n",
    "    es.indices.delete(index = jp_index)\n",
    "\n",
    "es.indices.create(index=jp_index, body=setting())\n",
    "# es.indices.put_mapping(index=jp_index, body=mapping())"
   ]
  },
  {
   "cell_type": "code",
   "execution_count": 67,
   "metadata": {},
   "outputs": [
    {
     "data": {
      "text/plain": [
       "{'_index': 'test',\n",
       " '_type': '_doc',\n",
       " '_id': 'f--A73IBILEZmxDbippU',\n",
       " '_version': 1,\n",
       " 'result': 'created',\n",
       " '_shards': {'total': 2, 'successful': 1, 'failed': 0},\n",
       " '_seq_no': 2,\n",
       " '_primary_term': 1}"
      ]
     },
     "execution_count": 67,
     "metadata": {},
     "output_type": "execute_result"
    }
   ],
   "source": [
    "text = \"1次リーグ●日本0（0－1、0－2）3中国○\"\n",
    "body = {\"text\":text}\n",
    "es.index(index=jp_index, body=body)\n",
    "# body = {\"text\":text, \"analyzer\":\"sudachi_analyzer\"}\n",
    "# es.indices.analyze(index=jp_index, body=body)"
   ]
  },
  {
   "cell_type": "code",
   "execution_count": 68,
   "metadata": {},
   "outputs": [],
   "source": [
    "result = es.search(\n",
    "            index=jp_index,\n",
    "            body={\"query\": {\"match_all\": {}}}\n",
    ")"
   ]
  },
  {
   "cell_type": "code",
   "execution_count": 69,
   "metadata": {},
   "outputs": [
    {
     "data": {
      "text/plain": [
       "{'took': 388,\n",
       " 'timed_out': False,\n",
       " '_shards': {'total': 1, 'successful': 1, 'skipped': 0, 'failed': 0},\n",
       " 'hits': {'total': {'value': 3, 'relation': 'eq'},\n",
       "  'max_score': 1.0,\n",
       "  'hits': [{'_index': 'test',\n",
       "    '_type': '_doc',\n",
       "    '_id': 'e-9673IBILEZmxDbsJqQ',\n",
       "    '_score': 1.0,\n",
       "    '_source': {'text': '日本001000x：1(高山 樹里→上野 由岐子－山路 典子'}},\n",
       "   {'_index': 'test',\n",
       "    '_type': '_doc',\n",
       "    '_id': 'fe9773IBILEZmxDbQpoD',\n",
       "    '_score': 1.0,\n",
       "    '_source': {'text': '日本001000x：1(高山樹里→上野由岐子－山路典子'}},\n",
       "   {'_index': 'test',\n",
       "    '_type': '_doc',\n",
       "    '_id': 'f--A73IBILEZmxDbippU',\n",
       "    '_score': 1.0,\n",
       "    '_source': {'text': '1次リーグ●日本0（0－1、0－2）3中国○'}}]}}"
      ]
     },
     "execution_count": 69,
     "metadata": {},
     "output_type": "execute_result"
    }
   ],
   "source": [
    "result"
   ]
  },
  {
   "cell_type": "code",
   "execution_count": 70,
   "metadata": {},
   "outputs": [
    {
     "data": {
      "text/plain": [
       "{'tokens': [{'token': '1',\n",
       "   'start_offset': 0,\n",
       "   'end_offset': 1,\n",
       "   'type': 'word',\n",
       "   'position': 0},\n",
       "  {'token': '次',\n",
       "   'start_offset': 1,\n",
       "   'end_offset': 2,\n",
       "   'type': 'word',\n",
       "   'position': 1},\n",
       "  {'token': 'リーグ',\n",
       "   'start_offset': 2,\n",
       "   'end_offset': 5,\n",
       "   'type': 'word',\n",
       "   'position': 2},\n",
       "  {'token': '日本',\n",
       "   'start_offset': 6,\n",
       "   'end_offset': 8,\n",
       "   'type': 'word',\n",
       "   'position': 3},\n",
       "  {'token': '1023',\n",
       "   'start_offset': 8,\n",
       "   'end_offset': 19,\n",
       "   'type': 'word',\n",
       "   'position': 4},\n",
       "  {'token': '中国',\n",
       "   'start_offset': 19,\n",
       "   'end_offset': 21,\n",
       "   'type': 'word',\n",
       "   'position': 5}]}"
      ]
     },
     "execution_count": 70,
     "metadata": {},
     "output_type": "execute_result"
    }
   ],
   "source": [
    "body = {\"text\":text, \"analyzer\":\"sudachi_analyzer\"}\n",
    "es.indices.analyze(index=jp_index, body=body)"
   ]
  },
  {
   "cell_type": "code",
   "execution_count": null,
   "metadata": {},
   "outputs": [],
   "source": []
  }
 ],
 "metadata": {
  "kernelspec": {
   "display_name": "Python 3",
   "language": "python",
   "name": "python3"
  },
  "language_info": {
   "codemirror_mode": {
    "name": "ipython",
    "version": 3
   },
   "file_extension": ".py",
   "mimetype": "text/x-python",
   "name": "python",
   "nbconvert_exporter": "python",
   "pygments_lexer": "ipython3",
   "version": "3.6.9"
  }
 },
 "nbformat": 4,
 "nbformat_minor": 4
}
